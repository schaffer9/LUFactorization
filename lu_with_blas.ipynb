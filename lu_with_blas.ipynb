{
 "cells": [
  {
   "cell_type": "code",
   "execution_count": 1,
   "metadata": {},
   "outputs": [],
   "source": [
    "using LinearAlgebra\n",
    "using Plots\n",
    "import Base: getproperty, \\, show"
   ]
  },
  {
   "cell_type": "code",
   "execution_count": 2,
   "metadata": {},
   "outputs": [
    {
     "data": {
      "text/plain": [
       "show (generic function with 346 methods)"
      ]
     },
     "execution_count": 2,
     "metadata": {},
     "output_type": "execute_result"
    }
   ],
   "source": [
    "\n",
    "struct LU_Fac{T<:Real}\n",
    "    lu::Matrix{T}\n",
    "    p::Array{Int, 1}\n",
    "end\n",
    "\n",
    "\n",
    "function getproperty(F::LU_Fac, d::Symbol)\n",
    "    \n",
    "    if d === :L\n",
    "        return UnitLowerTriangular(F.lu)\n",
    "    elseif d === :U\n",
    "        return UpperTriangular(F.lu)\n",
    "    else\n",
    "        getfield(F, d)\n",
    "    end\n",
    "end\n",
    "\n",
    "\n",
    "function propertynames(F::LU_Fac, private::Bool=false)\n",
    "    properties = (:L, :U)\n",
    "    if private\n",
    "        return (fieldnames(typeof(F))..., properties...)\n",
    "    else\n",
    "        return properties\n",
    "    end\n",
    "end\n",
    "\n",
    "function show(io::IO, mime::MIME{Symbol(\"text/plain\")}, F::LU_Fac)\n",
    "    print(io, \"L = \")\n",
    "    show(io, mime, F.L)\n",
    "    print(io, \"\\n\\nU = \")\n",
    "    show(io, mime, F.U)\n",
    "end\n"
   ]
  },
  {
   "cell_type": "code",
   "execution_count": 3,
   "metadata": {},
   "outputs": [
    {
     "data": {
      "text/plain": [
       "lu_factorization (generic function with 1 method)"
      ]
     },
     "execution_count": 3,
     "metadata": {},
     "output_type": "execute_result"
    }
   ],
   "source": [
    "\n",
    "function lu_factorization!(A::AbstractMatrix{T}) where T <: AbstractFloat\n",
    "    n = min(size(A)...)\n",
    "    piv = collect(1:n)\n",
    "    \n",
    "    @inbounds begin\n",
    "        for k = 1:n-1\n",
    "            # find pivot element\n",
    "            pivot = k\n",
    "            max_elem = abs(A[pivot, k])\n",
    "            for j = k+1:n\n",
    "                row_elem = abs(A[j, k])\n",
    "                if row_elem > max_elem\n",
    "                    max_elem = row_elem\n",
    "                    pivot = j\n",
    "                end\n",
    "            end\n",
    "            # piv[k] = pivot\n",
    "            if k != pivot\n",
    "                piv[k], piv[pivot] = piv[pivot], piv[k]\n",
    "\n",
    "                # change rows\n",
    "                for j = 1:n\n",
    "                    A[pivot, j], A[k, j] = A[k, j], A[pivot, j]\n",
    "                end\n",
    "            end\n",
    "                 \n",
    "            Akkinv = inv(A[k,k])\n",
    "            l = @view(A[k+1:n,k])\n",
    "            BLAS.scal!(length(l), Akkinv, l, 1)\n",
    "            @views BLAS.ger!(-1.0, A[k+1:n,k], A[k,k+1:n], A[k+1:n,k+1:n])\n",
    "        end\n",
    "    end\n",
    "    return LU_Fac{T}(\n",
    "        A,\n",
    "        piv\n",
    "    )\n",
    "end\n",
    "\n",
    "\n",
    "lu_factorization(A) = lu_factorization!(copy(A))\n"
   ]
  },
  {
   "cell_type": "code",
   "execution_count": 4,
   "metadata": {},
   "outputs": [],
   "source": [
    "\n",
    "\n",
    "swap_rows(b::AbstractArray, piv::AbstractArray{<:Integer}) = b[piv]\n",
    "\n",
    "\n",
    "swap_rows(b::AbstractMatrix, piv::AbstractArray{<:Integer}) = b[piv, :]\n",
    "\n",
    "\n",
    "function _solve!(b::AbstractArray{T}, F::LU_Fac{T}) where T<:AbstractFloat\n",
    "    BLAS.trsv!('L', 'N', 'U', F.lu, bp)\n",
    "    BLAS.trsv!('U', 'N', 'N', F.lu, bp)\n",
    "end\n",
    "\n",
    "\n",
    "function _solve!(B::AbstractMatrix{T}, F::LU_Fac{T}) where T<:AbstractFloat\n",
    "    BLAS.trsm!('L', 'L', 'N', 'U', 1.0, F.lu, B)\n",
    "    BLAS.trsm!('L', 'U', 'N', 'N', 1.0, F.lu, B)\n",
    "end\n",
    "\n",
    "\n",
    "function lu_solve!(b::AbstractArray{T}, A::AbstractMatrix{T}) where T<:AbstractFloat\n",
    "    lu = lu_factorization(A)\n",
    "    bp = swap_rows(b, lu.p)\n",
    "    _solve!(bp, lu)\n",
    "end\n",
    "\n",
    "function lu_solve!(b::AbstractArray{T}, lu::LU_Fac{T}) where T<:AbstractFloat\n",
    "    bp = swap_rows(b, lu.p)\n",
    "    _solve!(bp, lu)\n",
    "end\n",
    "\n",
    "\n",
    "\\(A::LU_Fac, b::AbstractArray) = lu_solve(A, b);"
   ]
  },
  {
   "cell_type": "code",
   "execution_count": 16,
   "metadata": {
    "scrolled": false
   },
   "outputs": [
    {
     "name": "stdout",
     "output_type": "stream",
     "text": [
      "  0.101401 seconds (10 allocations: 15.259 MiB, 0.76% gc time)\n",
      "  0.103663 seconds (6 allocations: 7.630 MiB)\n"
     ]
    },
    {
     "data": {
      "text/plain": [
       "1000×1000 Array{Float64,2}:\n",
       " 0.368663   0.150104   0.51081    …  0.496645   0.961989     0.77178  \n",
       " 0.610571   0.811913   0.190196      0.114175   0.556954     0.327096 \n",
       " 0.174942   0.949109   0.862564      0.174088   0.415398     0.130219 \n",
       " 0.707539   0.130757   0.520073      0.394706   0.93171      0.0820572\n",
       " 0.356156   0.606608   0.947434      0.825168   0.729873     0.186386 \n",
       " 0.607635   0.512997   0.0671269  …  0.457738   0.0792677    0.54433  \n",
       " 0.136308   0.599526   0.378024      0.356085   0.645454     0.613546 \n",
       " 0.443773   0.970924   0.413325      0.567684   0.185507     0.432858 \n",
       " 0.263105   0.275157   0.0592219     0.337839   0.149956     0.134922 \n",
       " 0.0512851  0.343983   0.979091      0.631763   0.943798     0.263488 \n",
       " 0.69728    0.971455   0.12068    …  0.0850632  0.0704903    0.252655 \n",
       " 0.07222    0.439294   0.27807       0.61263    0.000916924  0.235852 \n",
       " 0.358008   0.734605   0.605562      0.1891     0.0891402    0.240829 \n",
       " ⋮                                ⋱                                   \n",
       " 0.289422   0.438977   0.0681638     0.677826   0.07898      0.482813 \n",
       " 0.687352   0.0321555  0.363055      0.904229   0.385047     0.199282 \n",
       " 0.51526    0.0368588  0.634021   …  0.984938   0.759895     0.20637  \n",
       " 0.915067   0.125953   0.296138      0.493116   0.829376     0.340409 \n",
       " 0.384082   0.589559   0.205713      0.59138    0.395369     0.954884 \n",
       " 0.57184    0.849729   0.726018      0.716899   0.598832     0.322774 \n",
       " 0.788721   0.426225   0.389272      0.320909   0.0175849    0.446571 \n",
       " 0.646466   0.530376   0.094587   …  0.0151406  0.678726     0.776535 \n",
       " 0.951424   0.901374   0.767835      0.33883    0.305079     0.0471609\n",
       " 0.900633   0.770281   0.216728      0.282282   0.00235629   0.378845 \n",
       " 0.0500007  0.013108   0.626634      0.358177   0.0109115    0.0915844\n",
       " 0.69776    0.798504   0.324353      0.811314   0.945026     0.891699 "
      ]
     },
     "execution_count": 16,
     "metadata": {},
     "output_type": "execute_result"
    }
   ],
   "source": [
    "A = [1 2 3 4 \n",
    "     2 3 4 2\n",
    "     1 1 -1 2\n",
    "     0 2 1/3 3]\n",
    "\n",
    "n = 1000\n",
    "A = rand(n,n)\n",
    "b = A * rand(n, n)\n",
    "F = lu_factorization(A)\n",
    "@time lu_solve!(copy(b), F)\n",
    "F = lu(A)\n",
    "@time F\\b"
   ]
  },
  {
   "cell_type": "code",
   "execution_count": 14,
   "metadata": {},
   "outputs": [],
   "source": [
    "BLAS.set_num_threads(1)"
   ]
  },
  {
   "cell_type": "code",
   "execution_count": 22,
   "metadata": {},
   "outputs": [
    {
     "name": "stdout",
     "output_type": "stream",
     "text": [
      "  0.000023 seconds (7 allocations: 272 bytes)\n",
      "  0.000067 seconds (8 allocations: 78.422 KiB)\n",
      "  0.000055 seconds (8 allocations: 78.422 KiB)\n"
     ]
    },
    {
     "data": {
      "text/plain": [
       "100×100 Array{Float64,2}:\n",
       " 0.546926   0.0147237  0.490005    …  0.659245   0.316036    0.472518 \n",
       " 0.455999   0.769551   0.00761391     0.36143    0.904167    0.380178 \n",
       " 0.978017   0.5249     0.555239       0.97144    0.937953    0.512563 \n",
       " 0.580846   0.966916   0.291514       0.109487   0.688104    0.136585 \n",
       " 0.969909   0.969459   0.740523       0.750824   0.348495    0.250818 \n",
       " 0.871822   0.268373   0.802101    …  0.517787   0.00760553  0.0463582\n",
       " 0.837971   0.377483   0.150536       0.598176   0.724203    0.0976341\n",
       " 0.0460986  0.143948   0.643429       0.0223442  0.0219099   0.644593 \n",
       " 0.182493   0.0314742  0.240363       0.667885   0.612291    0.439095 \n",
       " 0.41424    0.544811   0.0396322      0.591162   0.785757    0.567989 \n",
       " 0.60763    0.179467   0.0685132   …  0.722455   0.704469    0.600823 \n",
       " 0.439479   0.348713   0.587737       0.486849   0.680098    0.892254 \n",
       " 0.691046   0.50952    0.0203879      0.338941   0.929016    0.401539 \n",
       " ⋮                                 ⋱                                  \n",
       " 0.249962   0.818295   0.149692       0.777522   0.306048    0.746305 \n",
       " 0.285174   0.677056   0.467818       0.475645   0.615755    0.0765241\n",
       " 0.124209   0.723914   0.826901    …  0.0416455  0.986268    0.915443 \n",
       " 0.728308   0.772002   0.675625       0.443098   0.965233    0.0558649\n",
       " 0.223343   0.283691   0.437782       0.432166   0.708413    0.27692  \n",
       " 0.880611   0.371618   0.952115       0.528621   0.0835652   0.160664 \n",
       " 0.234952   0.640083   0.860911       0.935206   0.65962     0.672703 \n",
       " 0.619086   0.894918   0.926792    …  0.744517   0.626441    0.553489 \n",
       " 0.28181    0.694089   0.479773       0.547703   0.344488    0.743209 \n",
       " 0.124184   0.419931   0.774705       0.252454   0.0284556   0.1324   \n",
       " 0.288932   0.683825   0.0829598      0.0336307  0.961213    0.641691 \n",
       " 0.444834   0.196919   0.672999       0.494221   0.766537    0.969109 "
      ]
     },
     "execution_count": 22,
     "metadata": {},
     "output_type": "execute_result"
    }
   ],
   "source": [
    "A = rand(1000, 1000)\n",
    "@time B = view(A, :, :)\n",
    "@time A[1:100, 1:100]\n",
    "@time B[1:100, 1:100]"
   ]
  },
  {
   "cell_type": "code",
   "execution_count": null,
   "metadata": {},
   "outputs": [],
   "source": []
  }
 ],
 "metadata": {
  "@webio": {
   "lastCommId": "b2114a2a59c649f3995dcedc63223c36",
   "lastKernelId": "cd0651bf-d421-4d15-919c-6b10b4edeba9"
  },
  "kernelspec": {
   "display_name": "Julia 1.0.1",
   "language": "julia",
   "name": "julia-1.0"
  },
  "language_info": {
   "file_extension": ".jl",
   "mimetype": "application/julia",
   "name": "julia",
   "version": "1.0.1"
  },
  "latex_envs": {
   "LaTeX_envs_menu_present": true,
   "autoclose": true,
   "autocomplete": true,
   "bibliofile": "biblio.bib",
   "cite_by": "apalike",
   "current_citInitial": 1,
   "eqLabelWithNumbers": true,
   "eqNumInitial": 1,
   "hotkeys": {
    "equation": "Ctrl-E",
    "itemize": "Ctrl-I"
   },
   "labels_anchors": false,
   "latex_user_defs": false,
   "report_style_numbering": false,
   "user_envs_cfg": false
  },
  "toc": {
   "base_numbering": 1,
   "nav_menu": {},
   "number_sections": true,
   "sideBar": true,
   "skip_h1_title": false,
   "title_cell": "Table of Contents",
   "title_sidebar": "Contents",
   "toc_cell": false,
   "toc_position": {},
   "toc_section_display": true,
   "toc_window_display": false
  },
  "varInspector": {
   "cols": {
    "lenName": 16,
    "lenType": 16,
    "lenVar": 40
   },
   "kernels_config": {
    "python": {
     "delete_cmd_postfix": "",
     "delete_cmd_prefix": "del ",
     "library": "var_list.py",
     "varRefreshCmd": "print(var_dic_list())"
    },
    "r": {
     "delete_cmd_postfix": ") ",
     "delete_cmd_prefix": "rm(",
     "library": "var_list.r",
     "varRefreshCmd": "cat(var_dic_list()) "
    }
   },
   "types_to_exclude": [
    "module",
    "function",
    "builtin_function_or_method",
    "instance",
    "_Feature"
   ],
   "window_display": false
  }
 },
 "nbformat": 4,
 "nbformat_minor": 2
}
