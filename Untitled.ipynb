{
 "cells": [
  {
   "cell_type": "code",
   "execution_count": 1,
   "metadata": {},
   "outputs": [],
   "source": [
    "using LinearAlgebra\n",
    "using Plots"
   ]
  },
  {
   "cell_type": "code",
   "execution_count": 2,
   "metadata": {},
   "outputs": [],
   "source": [
    "\n",
    "function forward_substitution(L, b)\n",
    "    x = similar(b)\n",
    "    \n",
    "    x[1] = b[1] / L[1,1]\n",
    "    for k = 2:length(b)\n",
    "        x[k] = b[k]\n",
    "        \n",
    "        for j = 1:k-1\n",
    "            x[k] -= L[k,j] * x[j]\n",
    "        end\n",
    "        \n",
    "        x[k] /= L[k,k]\n",
    "    end\n",
    "    \n",
    "    return x\n",
    "end\n",
    "\n",
    "\n",
    "function backward_substitution(L, b)\n",
    "    l = length(b)\n",
    "    x = similar(b)\n",
    "    \n",
    "    x[end] = b[end] / L[end,end]\n",
    "    for k = (l - 1):-1:1\n",
    "        x[k] = b[k] \n",
    "        \n",
    "        for j = k+1:l\n",
    "            x[k] -= L[k,j] * x[j]\n",
    "        end\n",
    "        # - view(L,j,j+1:l)' * view(x,j+1:l)) \n",
    "        x[k] /= L[k,k]\n",
    "    end\n",
    "    return x\n",
    "end\n",
    "\n",
    "function lu_factorization(A::StridedMatrix{T}) where T\n",
    "    n, m = size(A)\n",
    "    @assert n == m\n",
    "    L = Matrix{Float64}(I, n, n)\n",
    "    U = copy(A)\n",
    "    @inbounds begin\n",
    "        for k = 1:n-1\n",
    "                # L[j,k] = U[j,k] / U[k,k]\n",
    "            Ukkinv = inv(U[k,k])\n",
    "            for j = k+1:n\n",
    "                L[j,k] = U[j,k] * Ukkinv  # U[k,k]\n",
    "                for l = k:n\n",
    "                    U[j,l] = U[j,l] - L[j,k] * U[k,l]\n",
    "                end\n",
    "            end\n",
    "        end\n",
    "    end\n",
    "    \n",
    "    \n",
    "# implementation 2 (slow)\n",
    "#     for k = 1:n-1\n",
    "#         L[k+1:end,k] = U[k+1:n,k] ./ U[k,k]       \n",
    "#         U[k+1:n,k:n] = U[k+1:n,k:n] - L[k+1:n,k] * U[k,k:n]'\n",
    "#     end\n",
    "\n",
    "    return (L=L, U=U)\n",
    "end\n",
    "\n",
    "struct LU_Fac\n",
    "    L::AbstractMatrix\n",
    "    U::AbstractMatrix\n",
    "    function LU_Fac(A::AbstractMatrix)\n",
    "        lu = lu_factorization(A)\n",
    "        new(lu.L, lu.U)\n",
    "    end\n",
    "end\n",
    "\n",
    "\n",
    "function lu_solve(A::LU_Fac, b)\n",
    "    y = forward_substitution(A.L, b)\n",
    "    x = backward_substitution(A.U, y)\n",
    "end\n",
    "\n",
    "function lu_solve(A::AbstractArray, b)\n",
    "    lu = LU_Fac(A)\n",
    "    y = forward_substitution(lu.L, b)\n",
    "    x = backward_substitution(lu.U, y)\n",
    "end\n",
    "\n",
    "import Base: \\\n",
    "\\(A::LU_Fac, b::AbstractArray) = lu_solve(A, b);\n"
   ]
  },
  {
   "cell_type": "code",
   "execution_count": 3,
   "metadata": {},
   "outputs": [
    {
     "data": {
      "text/plain": [
       "plot_lu (generic function with 1 method)"
      ]
     },
     "execution_count": 3,
     "metadata": {},
     "output_type": "execute_result"
    }
   ],
   "source": [
    "# evaluation of time\n",
    "\n",
    "function create_lower_tri_sys(n)\n",
    "    L = LowerTriangular(rand(n, n))\n",
    "    L += I \n",
    "    b = L * ones(n);\n",
    "    return (L, b)\n",
    "end\n",
    "\n",
    "function create_upper_tri_sys(n)\n",
    "    U = UpperTriangular(rand(n, n))\n",
    "    U += 1\n",
    "    b = U * ones(n);\n",
    "    return (U, b)\n",
    "end\n",
    "\n",
    "function time_solve_lower_tri_sys(n)\n",
    "    L, b = create_lower_tri_sys(n)\n",
    "    @elapsed forward_substitution(L, b)\n",
    "end\n",
    "\n",
    "function time_solve_upper_tri_sys(n)\n",
    "    U, b = create_upper_tri_sys(n)\n",
    "    @elapsed backward_substitution(U, b)\n",
    "end\n",
    "\n",
    "time_lu_fac(n) = @elapsed LU_Fac(rand(n, n))\n",
    "\n",
    "function plot_time(f, sizes, iterations=10)\n",
    "    ts = []\n",
    "    for n in sizes\n",
    "        t = 0.\n",
    "        for i in 0:iterations\n",
    "            t += f(n)\n",
    "        end\n",
    "        t /= iterations\n",
    "        push!(ts, t)\n",
    "    end\n",
    "    plot(sizes, ts)\n",
    "end\n",
    "\n",
    "plot_forward_sub(sizes, iterations) = plot_time(time_solve_lower_tri_sys, sizes, iterations)\n",
    "plot_backward_sub(sizes, iterations) = plot_time(time_solve_upper_tri_sys, sizes, iterations)\n",
    "plot_lu(sizes, iterations) = plot_time(time_lu_fac, sizes, iterations)"
   ]
  },
  {
   "cell_type": "code",
   "execution_count": 4,
   "metadata": {},
   "outputs": [
    {
     "data": {
      "text/plain": [
       "fresidual_norm_backward_sub (generic function with 1 method)"
      ]
     },
     "execution_count": 4,
     "metadata": {},
     "output_type": "execute_result"
    }
   ],
   "source": [
    "function eval_accuracy_substitution(A, b, x, exact_solution)\n",
    "    n = length(b)\n",
    "    forward_error = norm(x - exact_solution, 1) / norm(exact_solution, 1)\n",
    "    residual_norm = norm(A * exact_solution - b, 1) / norm(b, 1)\n",
    "    \n",
    "    # println(\"Forward error for size $n = $forward_error\")\n",
    "    # println(\"Residual norm for size $n = $residual_norm\")\n",
    "    return (forward_error=forward_error, residual_norm=residual_norm)\n",
    "end\n",
    "\n",
    "function eval_accuracy_forward_sub(n)\n",
    "    L, b = create_lower_tri_sys(n)\n",
    "    x = forward_substitution(L, b)\n",
    "    exact_solution = ones(n)\n",
    "\n",
    "    eval_accuracy_substitution(L, b, x, exact_solution)\n",
    "end\n",
    "\n",
    "function eval_accuracy_backward_sub(n)\n",
    "    U, b = create_upper_tri_sys(n)\n",
    "    x = backward_substitution(U, b)\n",
    "    exact_solution = U \\ b\n",
    "\n",
    "    eval_accuracy_substitution(U, b, x, exact_solution)\n",
    "end\n",
    "\n",
    "factorization_error(factorized::LU_Fac, A::AbstractMatrix) =\n",
    "    norm(A - factorized.L * factorized.U, 1) / norm(A, 1)\n",
    "\n",
    "function factorization_error(A::AbstractMatrix)\n",
    "    factorized = LU_Fac(A)\n",
    "    return factorization_error(factorized, A)\n",
    "end\n",
    "\n",
    "forward_error(A, b, x, exact_solution) = \n",
    "    norm(x - exact_solution, 1) / norm(exact_solution, 1)\n",
    "\n",
    "residual_norm(A, b, x, exact_solution) = \n",
    "    norm(A * x - b, 1) / norm(b, 1)\n",
    "\n",
    "\n",
    "function forward_error_forward_sub(n)\n",
    "    L, b = create_lower_tri_sys(n)\n",
    "    x = forward_substitution(L, b)\n",
    "    exact_solution = ones(n)\n",
    "\n",
    "    forward_error(L, b, x, exact_solution)\n",
    "end\n",
    "\n",
    "function forward_error_backward_sub(n)\n",
    "    U, b = create_upper_tri_sys(n)\n",
    "    x = backward_substitution(U, b)\n",
    "    exact_solution = U \\ b\n",
    "\n",
    "    forward_error(U, b, x, exact_solution)\n",
    "end\n",
    "\n",
    "\n",
    "function residual_norm_forward_sub(n)\n",
    "    L, b = create_lower_tri_sys(n)\n",
    "    x = forward_substitution(L, b)\n",
    "    exact_solution = ones(n)\n",
    "\n",
    "    residual_norm(L, b, x, exact_solution)\n",
    "end\n",
    "\n",
    "function residual_norm_backward_sub(n)\n",
    "    U, b = create_upper_tri_sys(n)\n",
    "    x = backward_substitution(U, b)\n",
    "    exact_solution = U \\ b\n",
    "\n",
    "    residual_norm(U, b, x, exact_solution)\n",
    "end\n",
    "\n",
    "\n",
    "\n"
   ]
  },
  {
   "cell_type": "code",
   "execution_count": 39,
   "metadata": {},
   "outputs": [
    {
     "data": {
      "text/plain": [
       "generic_lufact! (generic function with 1 method)"
      ]
     },
     "execution_count": 39,
     "metadata": {},
     "output_type": "execute_result"
    }
   ],
   "source": [
    "\n",
    "function lu_factorization(A::StridedMatrix{T}) where T\n",
    "    n, m = size(A)\n",
    "    @assert n == m\n",
    "    L = Matrix{Float64}(I, n, n)\n",
    "    U = copy(A)\n",
    "    @inbounds begin\n",
    "        for k = 1:n-1\n",
    "            for j = k+1:n\n",
    "                L[j,k] = U[j,k] * inv(U[k,k])  # U[k,k]\n",
    "            end\n",
    "            \n",
    "            for l = k:n\n",
    "                for j = k+1:n\n",
    "                    U[j,l] = U[j,l] - L[j,k] * U[k,l]\n",
    "                end\n",
    "            end\n",
    "        end\n",
    "    end\n",
    "\n",
    "    return (L=L, U=U)\n",
    "end\n",
    "\n",
    "\n",
    "function generic_lufact!(A)\n",
    "    m, n = size(A)\n",
    "    minmn = min(m,n)\n",
    "    # info = 0\n",
    "    # ipiv = Vector{LinearAlgebra.BlasInt}(undef, minmn)\n",
    "    @inbounds begin\n",
    "        for k = 1:minmn\n",
    "\n",
    "            # Scale first column\n",
    "            Akkinv = inv(A[k,k])\n",
    "            for i = k+1:m\n",
    "                A[i,k] *= Akkinv\n",
    "            end\n",
    "\n",
    "            # Update the rest\n",
    "            for j = k+1:n\n",
    "                for i = k+1:m\n",
    "                    A[i,j] -= A[i,k]*A[k,j]\n",
    "                end\n",
    "            end\n",
    "        end\n",
    "    end\n",
    "\n",
    "    return A\n",
    "end"
   ]
  },
  {
   "cell_type": "code",
   "execution_count": 41,
   "metadata": {},
   "outputs": [
    {
     "name": "stdout",
     "output_type": "stream",
     "text": [
      "  0.209374 seconds (9 allocations: 15.259 MiB, 0.97% gc time)\n",
      "  0.194237 seconds (16 allocations: 7.638 MiB)\n"
     ]
    }
   ],
   "source": [
    "\n",
    "A = (rand(1000, 1000))\n",
    "_lu = @time lu_factorization(A)\n",
    "real_lu = @time lu(A, Val(false), check=true)\n",
    "\n",
    "@assert _lu.L * _lu.U ≈ A\n",
    "# @time generic_lufact!(A)\n"
   ]
  },
  {
   "cell_type": "code",
   "execution_count": 13,
   "metadata": {},
   "outputs": [
    {
     "data": {
      "text/plain": [
       "\\ (generic function with 164 methods)"
      ]
     },
     "execution_count": 13,
     "metadata": {},
     "output_type": "execute_result"
    }
   ],
   "source": []
  },
  {
   "cell_type": "code",
   "execution_count": null,
   "metadata": {},
   "outputs": [],
   "source": []
  }
 ],
 "metadata": {
  "@webio": {
   "lastCommId": "1ca39b51d41b49878126d746336d3913",
   "lastKernelId": "b916f378-6cd6-4a2e-8795-c9bb79f0c32d"
  },
  "kernelspec": {
   "display_name": "Julia 1.0.1",
   "language": "julia",
   "name": "julia-1.0"
  },
  "language_info": {
   "file_extension": ".jl",
   "mimetype": "application/julia",
   "name": "julia",
   "version": "1.0.1"
  },
  "latex_envs": {
   "LaTeX_envs_menu_present": true,
   "autoclose": true,
   "autocomplete": true,
   "bibliofile": "biblio.bib",
   "cite_by": "apalike",
   "current_citInitial": 1,
   "eqLabelWithNumbers": true,
   "eqNumInitial": 1,
   "hotkeys": {
    "equation": "Ctrl-E",
    "itemize": "Ctrl-I"
   },
   "labels_anchors": false,
   "latex_user_defs": false,
   "report_style_numbering": false,
   "user_envs_cfg": false
  },
  "toc": {
   "base_numbering": 1,
   "nav_menu": {},
   "number_sections": true,
   "sideBar": true,
   "skip_h1_title": true,
   "title_cell": "Table of Contents",
   "title_sidebar": "Contents",
   "toc_cell": false,
   "toc_position": {
    "height": "calc(100% - 180px)",
    "left": "10px",
    "top": "150px",
    "width": "384px"
   },
   "toc_section_display": true,
   "toc_window_display": true
  },
  "varInspector": {
   "cols": {
    "lenName": 16,
    "lenType": 16,
    "lenVar": 40
   },
   "kernels_config": {
    "python": {
     "delete_cmd_postfix": "",
     "delete_cmd_prefix": "del ",
     "library": "var_list.py",
     "varRefreshCmd": "print(var_dic_list())"
    },
    "r": {
     "delete_cmd_postfix": ") ",
     "delete_cmd_prefix": "rm(",
     "library": "var_list.r",
     "varRefreshCmd": "cat(var_dic_list()) "
    }
   },
   "types_to_exclude": [
    "module",
    "function",
    "builtin_function_or_method",
    "instance",
    "_Feature"
   ],
   "window_display": false
  }
 },
 "nbformat": 4,
 "nbformat_minor": 2
}
