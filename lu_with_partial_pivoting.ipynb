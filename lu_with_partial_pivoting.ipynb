{
 "cells": [
  {
   "cell_type": "code",
   "execution_count": 3,
   "metadata": {},
   "outputs": [],
   "source": [
    "using LinearAlgebra\n",
    "using Plots\n",
    "import Base: getproperty, \\, show"
   ]
  },
  {
   "cell_type": "code",
   "execution_count": 4,
   "metadata": {},
   "outputs": [
    {
     "data": {
      "text/plain": [
       "show (generic function with 346 methods)"
      ]
     },
     "execution_count": 4,
     "metadata": {},
     "output_type": "execute_result"
    }
   ],
   "source": [
    "\n",
    "\n",
    "struct LU_Fac{T<:Real}\n",
    "    lu::Matrix{T}\n",
    "    p::Array{Int, 1}\n",
    "end\n",
    "\n",
    "function getproperty(F::LU_Fac, d::Symbol)\n",
    "    \n",
    "    if d === :L\n",
    "        return UnitLowerTriangular(F.lu)\n",
    "    elseif d === :U\n",
    "        return UpperTriangular(F.lu)\n",
    "    else\n",
    "        getfield(F, d)\n",
    "    end\n",
    "end\n",
    "\n",
    "function propertynames(F::LU_Fac, private::Bool=false)\n",
    "    properties = (:L, :U)\n",
    "    if private\n",
    "        return (fieldnames(typeof(F))..., properties...)\n",
    "    else\n",
    "        return properties\n",
    "    end\n",
    "end\n",
    "\n",
    "function show(io::IO, mime::MIME{Symbol(\"text/plain\")}, F::LU_Fac)\n",
    "    print(io, \"L = \")\n",
    "    show(io, mime, F.L)\n",
    "    print(io, \"\\n\\nU = \")\n",
    "    show(io, mime, F.U)\n",
    "end\n"
   ]
  },
  {
   "cell_type": "code",
   "execution_count": 10,
   "metadata": {},
   "outputs": [
    {
     "data": {
      "text/plain": [
       "lu_factorization (generic function with 1 method)"
      ]
     },
     "execution_count": 10,
     "metadata": {},
     "output_type": "execute_result"
    }
   ],
   "source": [
    "\n",
    "function lu_factorization!(A::AbstractMatrix{T}) where T <: Real\n",
    "    n = min(size(A)...)\n",
    "    piv = collect(1:n)\n",
    "    \n",
    "    @inbounds begin\n",
    "        for k = 1:n-1\n",
    "            # find pivot element\n",
    "            pivot = k\n",
    "            max_elem = abs(A[pivot, k])\n",
    "            for j = k+1:n\n",
    "                row_elem = abs(A[j, k])\n",
    "                if row_elem > max_elem\n",
    "                    max_elem = row_elem\n",
    "                    pivot = j\n",
    "                end\n",
    "            end\n",
    "            if k != pivot\n",
    "                piv[k], piv[pivot] = piv[pivot], piv[k]\n",
    "\n",
    "                # change rows\n",
    "                for j = 1:n\n",
    "                    A[pivot, j], A[k, j] = A[k, j], A[pivot, j]\n",
    "                end\n",
    "            end\n",
    "                 \n",
    "            Akkinv = inv(A[k,k])\n",
    "            for j = k+1:n\n",
    "                A[j,k] *= Akkinv\n",
    "            end\n",
    "            for l = k+1:n\n",
    "                for j = k+1:n\n",
    "                    A[j,l] -= A[j,k] * A[k,l]\n",
    "                end\n",
    "            end\n",
    "        end\n",
    "    end\n",
    "    return LU_Fac{T}(\n",
    "        A,\n",
    "        piv\n",
    "    )\n",
    "end\n",
    "\n",
    "\n",
    "lu_factorization(A) = lu_factorization!(copy(A))\n"
   ]
  },
  {
   "cell_type": "code",
   "execution_count": 6,
   "metadata": {},
   "outputs": [],
   "source": [
    "\n",
    "@inline function forward_substitution(F::LU_Fac, b::AbstractArray)\n",
    "    x = similar(b)\n",
    "    bp = b[F.p]\n",
    "    L = F.lu\n",
    "    \n",
    "    @inbounds begin\n",
    "        x[1] = b[1]\n",
    "        \n",
    "        for k = 2:length(b)\n",
    "            x[k] = b[k]\n",
    "\n",
    "            for j = 1:k-1\n",
    "                x[k] -= L[k,j] * x[j]\n",
    "            end\n",
    "\n",
    "        end\n",
    "    end\n",
    "    \n",
    "    return x\n",
    "end\n",
    "\n",
    "@inline function backward_substitution(F::LU_Fac, b::AbstractArray)\n",
    "    x = similar(b)\n",
    "    n = length(b)\n",
    "    U = F.lu\n",
    "    \n",
    "    @inbounds begin\n",
    "        Uinv = inv(U[end,end])\n",
    "        x[end] = b[end] * Uinv\n",
    "        for k = (n - 1):-1:1\n",
    "            x[k] = b[k] \n",
    "\n",
    "            for j = k+1:n\n",
    "                x[k] -= U[k,j] * x[j]\n",
    "            end\n",
    "            Uinv = inv(U[k, k])\n",
    "            x[k] *= Uinv\n",
    "        end\n",
    "        return x\n",
    "    end\n",
    "end\n",
    "\n",
    "\n",
    "@inline function lu_solve(A::LU_Fac, b::AbstractArray{<:Real, 1})\n",
    "    y = forward_substitution(A, b)\n",
    "    x = backward_substitution(A, y)\n",
    "end\n",
    "\n",
    "function lu_solve(A::AbstractMatrix, b::AbstractArray)\n",
    "    lu = lu_factorization(A)\n",
    "    lu_solve(lu, b)\n",
    "end\n",
    "\n",
    "function lu_solve(A::LU_Fac, B::AbstractMatrix{<:Real})\n",
    "    mapslices(B; dims=1) do b\n",
    "        lu_solve(A, b)\n",
    "    end    \n",
    "end\n",
    "    \n",
    "\n",
    "\\(A::LU_Fac, b::AbstractArray) = lu_solve(A, b);"
   ]
  },
  {
   "cell_type": "code",
   "execution_count": 8,
   "metadata": {
    "scrolled": false
   },
   "outputs": [
    {
     "name": "stdout",
     "output_type": "stream",
     "text": [
      "  0.719991 seconds (8 allocations: 7.637 MiB, 0.74% gc time)\n",
      "  2.371217 seconds (10.51 k allocations: 31.069 MiB, 1.34% gc time)\n"
     ]
    },
    {
     "data": {
      "text/plain": [
       "1000×1000 Array{Float64,2}:\n",
       "   60.8547     60.8547     60.8547   …    60.8547     60.8547     60.8547 \n",
       "  -28.0113    -28.0113    -28.0113       -28.0113    -28.0113    -28.0113 \n",
       "  -70.5221    -70.5221    -70.5221       -70.5221    -70.5221    -70.5221 \n",
       "  -23.7275    -23.7275    -23.7275       -23.7275    -23.7275    -23.7275 \n",
       "   33.8021     33.8021     33.8021        33.8021     33.8021     33.8021 \n",
       "   29.5284     29.5284     29.5284   …    29.5284     29.5284     29.5284 \n",
       "   84.4069     84.4069     84.4069        84.4069     84.4069     84.4069 \n",
       "  -60.1389    -60.1389    -60.1389       -60.1389    -60.1389    -60.1389 \n",
       "   19.2839     19.2839     19.2839        19.2839     19.2839     19.2839 \n",
       " -120.293    -120.293    -120.293       -120.293    -120.293    -120.293  \n",
       "  -45.5952    -45.5952    -45.5952   …   -45.5952    -45.5952    -45.5952 \n",
       "  -56.7375    -56.7375    -56.7375       -56.7375    -56.7375    -56.7375 \n",
       "  -43.5873    -43.5873    -43.5873       -43.5873    -43.5873    -43.5873 \n",
       "    ⋮                                ⋱                                    \n",
       "  -80.6265    -80.6265    -80.6265       -80.6265    -80.6265    -80.6265 \n",
       "  -45.2501    -45.2501    -45.2501       -45.2501    -45.2501    -45.2501 \n",
       "  -59.1129    -59.1129    -59.1129   …   -59.1129    -59.1129    -59.1129 \n",
       "   18.2843     18.2843     18.2843        18.2843     18.2843     18.2843 \n",
       "  -90.6318    -90.6318    -90.6318       -90.6318    -90.6318    -90.6318 \n",
       "   46.142      46.142      46.142         46.142      46.142      46.142  \n",
       "  -21.4156    -21.4156    -21.4156       -21.4156    -21.4156    -21.4156 \n",
       " -137.391    -137.391    -137.391    …  -137.391    -137.391    -137.391  \n",
       "    9.35444     9.35444     9.35444        9.35444     9.35444     9.35444\n",
       "   24.7582     24.7582     24.7582        24.7582     24.7582     24.7582 \n",
       "  -77.5037    -77.5037    -77.5037       -77.5037    -77.5037    -77.5037 \n",
       "  -36.4998    -36.4998    -36.4998       -36.4998    -36.4998    -36.4998 "
      ]
     },
     "execution_count": 8,
     "metadata": {},
     "output_type": "execute_result"
    }
   ],
   "source": [
    "n = 1000\n",
    "A = rand(n,n)\n",
    "b = A*ones(n, n)\n",
    "@time F = lu_factorization(A)\n",
    "@time x = F \\ b"
   ]
  },
  {
   "cell_type": "code",
   "execution_count": 11,
   "metadata": {},
   "outputs": [
    {
     "ename": "AssertionError",
     "evalue": "AssertionError: F.L * F.U ≈ A",
     "output_type": "error",
     "traceback": [
      "AssertionError: F.L * F.U ≈ A",
      "",
      "Stacktrace:",
      " [1] top-level scope at In[11]:6"
     ]
    }
   ],
   "source": [
    "A = [1 2 3 4 \n",
    "     2 3 4 2\n",
    "     1 1 1 2\n",
    "     0 2 1/3 3]\n",
    "F = lu_factorization(copy(A))\n",
    "@assert F.L *F.U ≈ A\n",
    "display(F)\n",
    "display(lu(A))\n",
    "# b = [1, 1, 1, 1//1]\n",
    "# x1 = forward_substitution(F, b)\n",
    "# x2 = backward_substitution(F, b)"
   ]
  },
  {
   "cell_type": "code",
   "execution_count": null,
   "metadata": {},
   "outputs": [],
   "source": []
  }
 ],
 "metadata": {
  "@webio": {
   "lastCommId": "65e07c73a710422f9913882d06a06788",
   "lastKernelId": "8f488fab-aea0-4867-80a3-28f8af73dccc"
  },
  "kernelspec": {
   "display_name": "Julia 1.0.1",
   "language": "julia",
   "name": "julia-1.0"
  },
  "language_info": {
   "file_extension": ".jl",
   "mimetype": "application/julia",
   "name": "julia",
   "version": "1.0.1"
  },
  "latex_envs": {
   "LaTeX_envs_menu_present": true,
   "autoclose": true,
   "autocomplete": true,
   "bibliofile": "biblio.bib",
   "cite_by": "apalike",
   "current_citInitial": 1,
   "eqLabelWithNumbers": true,
   "eqNumInitial": 1,
   "hotkeys": {
    "equation": "Ctrl-E",
    "itemize": "Ctrl-I"
   },
   "labels_anchors": false,
   "latex_user_defs": false,
   "report_style_numbering": false,
   "user_envs_cfg": false
  },
  "toc": {
   "base_numbering": 1,
   "nav_menu": {},
   "number_sections": true,
   "sideBar": true,
   "skip_h1_title": false,
   "title_cell": "Table of Contents",
   "title_sidebar": "Contents",
   "toc_cell": false,
   "toc_position": {},
   "toc_section_display": true,
   "toc_window_display": false
  },
  "varInspector": {
   "cols": {
    "lenName": 16,
    "lenType": 16,
    "lenVar": 40
   },
   "kernels_config": {
    "python": {
     "delete_cmd_postfix": "",
     "delete_cmd_prefix": "del ",
     "library": "var_list.py",
     "varRefreshCmd": "print(var_dic_list())"
    },
    "r": {
     "delete_cmd_postfix": ") ",
     "delete_cmd_prefix": "rm(",
     "library": "var_list.r",
     "varRefreshCmd": "cat(var_dic_list()) "
    }
   },
   "types_to_exclude": [
    "module",
    "function",
    "builtin_function_or_method",
    "instance",
    "_Feature"
   ],
   "window_display": false
  }
 },
 "nbformat": 4,
 "nbformat_minor": 2
}
