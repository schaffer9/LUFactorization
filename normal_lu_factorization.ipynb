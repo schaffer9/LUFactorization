{
 "cells": [
  {
   "cell_type": "code",
   "execution_count": 1,
   "metadata": {},
   "outputs": [],
   "source": [
    "using LinearAlgebra\n",
    "using Plots"
   ]
  },
  {
   "cell_type": "code",
   "execution_count": 15,
   "metadata": {},
   "outputs": [
    {
     "data": {
      "text/plain": [
       "show (generic function with 346 methods)"
      ]
     },
     "execution_count": 15,
     "metadata": {},
     "output_type": "execute_result"
    }
   ],
   "source": [
    "\n",
    "function forward_substitution(L, b)\n",
    "    x = similar(b)\n",
    "    \n",
    "    x[1] = b[1] / L[1,1]\n",
    "    for k = 2:length(b)\n",
    "        x[k] = b[k]\n",
    "        \n",
    "        for j = 1:k-1\n",
    "            x[k] -= L[k,j] * x[j]\n",
    "        end\n",
    "        \n",
    "        x[k] /= L[k,k]\n",
    "    end\n",
    "    \n",
    "    return x\n",
    "end\n",
    "\n",
    "\n",
    "function backward_substitution(L, b)\n",
    "    l = length(b)\n",
    "    x = similar(b)\n",
    "    \n",
    "    x[end] = b[end] / L[end,end]\n",
    "    for k = (l - 1):-1:1\n",
    "        x[k] = b[k] \n",
    "        \n",
    "        for j = k+1:l\n",
    "            x[k] -= L[k,j] * x[j]\n",
    "        end\n",
    "        # - view(L,j,j+1:l)' * view(x,j+1:l)) \n",
    "        x[k] /= L[k,k]\n",
    "    end\n",
    "    return x\n",
    "end\n",
    "\n",
    "\n",
    "\n",
    "struct LU_Fac\n",
    "    L::UnitLowerTriangular\n",
    "    U::UpperTriangular\n",
    "end\n",
    "\n",
    "\n",
    "\n",
    "function lu_factorization!(A)\n",
    "    n = min(size(A)...)\n",
    "  \n",
    "    @inbounds begin\n",
    "        for k = 1:n-1\n",
    "            Akkinv = inv(A[k,k])\n",
    "            for j = k+1:n\n",
    "                A[j,k] *= Akkinv\n",
    "            end\n",
    "            for l = k+1:n\n",
    "                for j = k+1:n\n",
    "                    A[j,l] -= A[j,k] * A[k,l]\n",
    "                end\n",
    "            end\n",
    "        end\n",
    "    end\n",
    "    \n",
    "    return LU_Fac(\n",
    "        UnitLowerTriangular(A),\n",
    "        UpperTriangular(A)\n",
    "    )\n",
    "end\n",
    "\n",
    "\n",
    "lu_factorization(A) = lu_factorization!(copy(A))\n",
    "\n",
    "\n",
    "function lu_solve(A::LU_Fac, b)\n",
    "    y = forward_substitution(A.L, b)\n",
    "    x = backward_substitution(A.U, y)\n",
    "end\n",
    "\n",
    "function lu_solve(A::AbstractArray, b)\n",
    "    lu = LU_Fac(A)\n",
    "    y = forward_substitution(lu.L, b)\n",
    "    x = backward_substitution(lu.U, y)\n",
    "end\n",
    "\n",
    "import Base: \\, show\n",
    "\\(A::LU_Fac, b::AbstractArray) = lu_solve(A, b);\n",
    "\n",
    "function show(io::IO, mime::MIME{Symbol(\"text/plain\")}, F::LU_Fac)\n",
    "    print(io, \"L = \")\n",
    "    show(io, mime, F.L)\n",
    "    print(io, \"\\n\\nU = \")\n",
    "    show(io, mime, F.U)\n",
    "end\n"
   ]
  },
  {
   "cell_type": "code",
   "execution_count": 20,
   "metadata": {},
   "outputs": [
    {
     "name": "stdout",
     "output_type": "stream",
     "text": [
      "  0.467779 seconds (9 allocations: 7.630 MiB, 0.55% gc time)\n",
      " "
     ]
    },
    {
     "data": {
      "text/plain": [
       "L = 1000×1000 UnitLowerTriangular{Float64,Array{Float64,2}}:\n",
       " 1.0          ⋅          ⋅          ⋅         …    ⋅          ⋅          ⋅ \n",
       " 0.391856    1.0         ⋅          ⋅              ⋅          ⋅          ⋅ \n",
       " 0.444234   -2.94545    1.0         ⋅              ⋅          ⋅          ⋅ \n",
       " 0.873651    1.97802   -0.647755   1.0             ⋅          ⋅          ⋅ \n",
       " 0.189051   -4.50246    1.85978    0.804959        ⋅          ⋅          ⋅ \n",
       " 0.585381   -4.54483    2.67025    1.0563     …    ⋅          ⋅          ⋅ \n",
       " 0.711026   -0.710272   0.869939   0.130086        ⋅          ⋅          ⋅ \n",
       " 0.833569    0.359511   1.03871    1.60249         ⋅          ⋅          ⋅ \n",
       " 1.18048     0.251004   0.935158   0.873703        ⋅          ⋅          ⋅ \n",
       " 1.22424    -2.67474    0.632518  -0.704943        ⋅          ⋅          ⋅ \n",
       " 1.08113     1.83463   -0.705207  -1.34792    …    ⋅          ⋅          ⋅ \n",
       " 0.182391   -0.251215  -1.67564    0.44039         ⋅          ⋅          ⋅ \n",
       " 0.498345   -0.323534  -1.86513   -0.342615        ⋅          ⋅          ⋅ \n",
       " ⋮                                            ⋱                            \n",
       " 0.537939   -0.842679   0.300769  -0.0194261       ⋅          ⋅          ⋅ \n",
       " 1.1939     -1.75227    0.672076  -1.21673         ⋅          ⋅          ⋅ \n",
       " 0.522412   -0.202454  -0.237589   0.0691401  …    ⋅          ⋅          ⋅ \n",
       " 1.21156    -0.11923    1.17584   -0.657219        ⋅          ⋅          ⋅ \n",
       " 0.306163    0.81644   -2.20551   -1.49459         ⋅          ⋅          ⋅ \n",
       " 0.0561203  -6.21474    0.944406  -0.943215        ⋅          ⋅          ⋅ \n",
       " 1.13753     2.78536   -1.33912   -1.35061         ⋅          ⋅          ⋅ \n",
       " 0.575226    0.491525  -0.165568  -0.0213598  …    ⋅          ⋅          ⋅ \n",
       " 0.63039    -1.14588   -0.264671   0.911964        ⋅          ⋅          ⋅ \n",
       " 0.763595   -4.58502    2.84035    0.882897       1.0         ⋅          ⋅ \n",
       " 0.0564317  -4.10139    1.36922    0.137374      24.0888     1.0         ⋅ \n",
       " 0.648818    0.968072  -0.59883    0.980398      -0.656222  -0.0557957  1.0\n",
       "\n",
       "U = 1000×1000 UpperTriangular{Float64,Array{Float64,2}}:\n",
       " 0.80854   0.405554   0.507106   0.651051  …    0.650554    0.843252  \n",
       "  ⋅       -0.149233  -0.107932  -0.10131        0.421756    0.292576  \n",
       "  ⋅         ⋅        -0.285627  -0.231126       1.74665     0.59239   \n",
       "  ⋅         ⋅          ⋅         0.409556      -0.160927   -0.363052  \n",
       "  ⋅         ⋅          ⋅          ⋅            -0.94473     0.816161  \n",
       "  ⋅         ⋅          ⋅          ⋅        …   -0.400508   -1.59909   \n",
       "  ⋅         ⋅          ⋅          ⋅            -0.622562   -3.16181   \n",
       "  ⋅         ⋅          ⋅          ⋅             4.32771    17.0059    \n",
       "  ⋅         ⋅          ⋅          ⋅            -1.66673    -0.512445  \n",
       "  ⋅         ⋅          ⋅          ⋅             0.143596    0.00523292\n",
       "  ⋅         ⋅          ⋅          ⋅        …   -2.1061     -0.193033  \n",
       "  ⋅         ⋅          ⋅          ⋅             1.47875     0.309662  \n",
       "  ⋅         ⋅          ⋅          ⋅             0.221929    0.161835  \n",
       " ⋮                                         ⋱                          \n",
       "  ⋅         ⋅          ⋅          ⋅            -6.41782     2.89892   \n",
       "  ⋅         ⋅          ⋅          ⋅             2.77534    -1.93117   \n",
       "  ⋅         ⋅          ⋅          ⋅        …   11.9804    -23.2567    \n",
       "  ⋅         ⋅          ⋅          ⋅            -7.70837     0.341943  \n",
       "  ⋅         ⋅          ⋅          ⋅            -3.13737    -2.28384   \n",
       "  ⋅         ⋅          ⋅          ⋅            -3.13292    -4.00664   \n",
       "  ⋅         ⋅          ⋅          ⋅            24.2968     40.5997    \n",
       "  ⋅         ⋅          ⋅          ⋅        …   32.6978     18.4273    \n",
       "  ⋅         ⋅          ⋅          ⋅           -12.9051      7.5406    \n",
       "  ⋅         ⋅          ⋅          ⋅            -4.31198    -1.52869   \n",
       "  ⋅         ⋅          ⋅          ⋅           109.978      30.5875    \n",
       "  ⋅         ⋅          ⋅          ⋅              ⋅         -0.388669  "
      ]
     },
     "metadata": {},
     "output_type": "display_data"
    },
    {
     "name": "stdout",
     "output_type": "stream",
     "text": [
      " 0.449111 seconds (8 allocations: 7.637 MiB)\n"
     ]
    },
    {
     "data": {
      "text/plain": [
       "true"
      ]
     },
     "execution_count": 20,
     "metadata": {},
     "output_type": "execute_result"
    }
   ],
   "source": [
    "A = rand(1000, 1000)\n",
    "@time fac = lu_factorization(A)\n",
    "@time LinearAlgebra.generic_lufact!(copy(A))\n",
    "display(fac)\n",
    "fac.L * fac.U ≈ A"
   ]
  },
  {
   "cell_type": "code",
   "execution_count": 23,
   "metadata": {},
   "outputs": [
    {
     "name": "stdout",
     "output_type": "stream",
     "text": [
      "  0.003931 seconds (5 allocations: 8.094 KiB)\n"
     ]
    },
    {
     "data": {
      "text/plain": [
       "1000-element Array{Float64,1}:\n",
       "       1.0               \n",
       "       1.0               \n",
       "       1.0               \n",
       "       1.0000000000000002\n",
       "       0.9999999999999999\n",
       "       1.0               \n",
       "       0.9999999999999991\n",
       "       0.9999999999999999\n",
       "       1.0000000000000007\n",
       "       0.9999999999999992\n",
       "       1.0000000000000018\n",
       "       0.9999999999999991\n",
       "       1.0               \n",
       "       ⋮                 \n",
       " -280802.1574082712      \n",
       "  178363.81123271832     \n",
       "  163153.99064248113     \n",
       " -234030.98733144318     \n",
       " -517779.35657036956     \n",
       "  -19354.674758464796    \n",
       "   48310.83274112657     \n",
       "  251647.3696774992      \n",
       "  819552.2936973205      \n",
       " -276414.6149571281      \n",
       " -638574.6477370507      \n",
       "  376152.61262136087     "
      ]
     },
     "execution_count": 23,
     "metadata": {},
     "output_type": "execute_result"
    }
   ],
   "source": [
    "A = UnitLowerTriangular(rand(1000, 1000))\n",
    "b = A * ones(1000)\n",
    "@time forward_substitution(A, b)"
   ]
  },
  {
   "cell_type": "code",
   "execution_count": null,
   "metadata": {},
   "outputs": [],
   "source": []
  }
 ],
 "metadata": {
  "@webio": {
   "lastCommId": "c2ffebb3ed8e4cbb8a05a22c3da4204f",
   "lastKernelId": "75240c68-db02-47fc-b139-f8499790caea"
  },
  "kernelspec": {
   "display_name": "Julia 1.0.1",
   "language": "julia",
   "name": "julia-1.0"
  },
  "language_info": {
   "file_extension": ".jl",
   "mimetype": "application/julia",
   "name": "julia",
   "version": "1.0.1"
  },
  "latex_envs": {
   "LaTeX_envs_menu_present": true,
   "autoclose": true,
   "autocomplete": true,
   "bibliofile": "biblio.bib",
   "cite_by": "apalike",
   "current_citInitial": 1,
   "eqLabelWithNumbers": true,
   "eqNumInitial": 1,
   "hotkeys": {
    "equation": "Ctrl-E",
    "itemize": "Ctrl-I"
   },
   "labels_anchors": false,
   "latex_user_defs": false,
   "report_style_numbering": false,
   "user_envs_cfg": false
  },
  "toc": {
   "base_numbering": 1,
   "nav_menu": {},
   "number_sections": true,
   "sideBar": true,
   "skip_h1_title": false,
   "title_cell": "Table of Contents",
   "title_sidebar": "Contents",
   "toc_cell": false,
   "toc_position": {},
   "toc_section_display": true,
   "toc_window_display": false
  },
  "varInspector": {
   "cols": {
    "lenName": 16,
    "lenType": 16,
    "lenVar": 40
   },
   "kernels_config": {
    "python": {
     "delete_cmd_postfix": "",
     "delete_cmd_prefix": "del ",
     "library": "var_list.py",
     "varRefreshCmd": "print(var_dic_list())"
    },
    "r": {
     "delete_cmd_postfix": ") ",
     "delete_cmd_prefix": "rm(",
     "library": "var_list.r",
     "varRefreshCmd": "cat(var_dic_list()) "
    }
   },
   "types_to_exclude": [
    "module",
    "function",
    "builtin_function_or_method",
    "instance",
    "_Feature"
   ],
   "window_display": false
  }
 },
 "nbformat": 4,
 "nbformat_minor": 2
}
