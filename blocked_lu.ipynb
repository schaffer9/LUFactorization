{
 "cells": [
  {
   "cell_type": "code",
   "execution_count": 3,
   "metadata": {},
   "outputs": [],
   "source": [
    "using LinearAlgebra\n",
    "using Plots\n",
    "import Base: getproperty, \\, show"
   ]
  },
  {
   "cell_type": "code",
   "execution_count": 4,
   "metadata": {},
   "outputs": [
    {
     "data": {
      "text/plain": [
       "show (generic function with 346 methods)"
      ]
     },
     "execution_count": 4,
     "metadata": {},
     "output_type": "execute_result"
    }
   ],
   "source": [
    "\n",
    "struct LU_Fac{T<:Real}\n",
    "    lu::Matrix{T}\n",
    "    p::Array{Int, 1}\n",
    "end\n",
    "\n",
    "\n",
    "function getproperty(F::LU_Fac, d::Symbol)\n",
    "    \n",
    "    if d === :L\n",
    "        return UnitLowerTriangular(F.lu)\n",
    "    elseif d === :U\n",
    "        return UpperTriangular(F.lu)\n",
    "    else\n",
    "        getfield(F, d)\n",
    "    end\n",
    "end\n",
    "\n",
    "\n",
    "function propertynames(F::LU_Fac, private::Bool=false)\n",
    "    properties = (:L, :U)\n",
    "    if private\n",
    "        return (fieldnames(typeof(F))..., properties...)\n",
    "    else\n",
    "        return properties\n",
    "    end\n",
    "end\n",
    "\n",
    "function show(io::IO, mime::MIME{Symbol(\"text/plain\")}, F::LU_Fac)\n",
    "    print(io, \"L = \")\n",
    "    show(io, mime, F.L)\n",
    "    print(io, \"\\n\\nU = \")\n",
    "    show(io, mime, F.U)\n",
    "end\n"
   ]
  },
  {
   "cell_type": "code",
   "execution_count": 494,
   "metadata": {},
   "outputs": [
    {
     "data": {
      "text/plain": [
       "blocked_lu! (generic function with 1 method)"
      ]
     },
     "execution_count": 494,
     "metadata": {},
     "output_type": "execute_result"
    }
   ],
   "source": [
    "\n",
    "function _factorize!(\n",
    "        A::AbstractMatrix,\n",
    "        i::OrdinalRange, \n",
    "        j::OrdinalRange, \n",
    "        piv::AbstractArray{<:Integer, 1}\n",
    "    )\n",
    "    Aij = @view A[i, j]\n",
    "    # n = min(size(Aij)...)\n",
    "    n, m = size(Aij)\n",
    "    s, t = size(A)\n",
    "    \n",
    "    for k = 1:m\n",
    "        # find pivot element\n",
    "        col_k = k + i.start - 1\n",
    "        pivot = col_k\n",
    "        max_elem = abs(A[pivot, k])\n",
    "        for j = col_k+1:s\n",
    "            row_elem = abs(A[j, col_k])\n",
    "            if row_elem > max_elem\n",
    "                max_elem = row_elem\n",
    "                pivot = j\n",
    "            end\n",
    "        end\n",
    "        # piv[k] = pivot\n",
    "        if col_k != pivot\n",
    "            piv[col_k], piv[pivot] = piv[pivot], piv[col_k]\n",
    "            # change rows\n",
    "            for j = 1:t\n",
    "                A[pivot, j], A[col_k, j] = A[col_k, j], A[pivot, j]\n",
    "            end\n",
    "        end\n",
    "\n",
    "        Akkinv = inv(Aij[k,k])\n",
    "        l = @view(Aij[k+1:n,k])\n",
    "        BLAS.scal!(length(l), Akkinv, l, 1)\n",
    "        @views BLAS.ger!(-1.0, Aij[k+1:n,k], Aij[k,k+1:m], Aij[k+1:n,k+1:m])\n",
    "    end\n",
    "end\n",
    "\n",
    "_last_block(n, b) = n%b == 0 ? n - b +1 : n - (n%b) + 1\n",
    "\n",
    "function blocked_lu!(A::AbstractMatrix{T}, b::Integer) where T <: AbstractFloat\n",
    "    n = min(size(A)...)\n",
    "    piv = collect(1:n)\n",
    "    last_block = _last_block(n, b)\n",
    "    for i = 1:b:last_block-b\n",
    "        k = i:i+b-1\n",
    "        l = i+b:n\n",
    "        _factorize!(A, i:n, k, piv)\n",
    "        Lkk = @view A[k, k]\n",
    "        Ukl = @view A[k, l]\n",
    "        Llk = @view A[l, k]\n",
    "        All = @view A[l,  l]\n",
    "        # Aji = Lkk \\ Aji\n",
    "        BLAS.trsm!('L', 'L', 'N', 'U', 1.0, Lkk, Ukl)\n",
    "        # All = All - Llk*Ukl\n",
    "        BLAS.gemm!('N', 'N', -1.0, Llk, Ukl, 1.0, All)\n",
    "    end\n",
    "    _factorize!(A, last_block:n, last_block:n, piv)\n",
    "    return LU_Fac{T}(\n",
    "        A,\n",
    "        piv\n",
    "    )\n",
    "end\n",
    "function _factorize!(\n",
    "        A::AbstractMatrix,\n",
    "        i::OrdinalRange, \n",
    "        j::OrdinalRange, \n",
    "        piv::AbstractArray{<:Integer, 1}\n",
    "    )\n",
    "    Aij = @view A[i, j]\n",
    "    # n = min(size(Aij)...)\n",
    "    n, m = size(Aij)\n",
    "    s, t = size(A)\n",
    "    \n",
    "    for k = 1:m\n",
    "        # find pivot element\n",
    "        col_k = k + i.start - 1\n",
    "        pivot = col_k\n",
    "        max_elem = abs(A[pivot, k])\n",
    "        for j = col_k+1:s\n",
    "            row_elem = abs(A[j, col_k])\n",
    "            if row_elem > max_elem\n",
    "                max_elem = row_elem\n",
    "                pivot = j\n",
    "            end\n",
    "        end\n",
    "        # piv[k] = pivot\n",
    "        if col_k != pivot\n",
    "            piv[col_k], piv[pivot] = piv[pivot], piv[col_k]\n",
    "            # change rows\n",
    "            for j = 1:t\n",
    "                A[pivot, j], A[col_k, j] = A[col_k, j], A[pivot, j]\n",
    "            end\n",
    "        end\n",
    "\n",
    "        Akkinv = inv(Aij[k,k])\n",
    "        l = @view(Aij[k+1:n,k])\n",
    "        BLAS.scal!(length(l), Akkinv, l, 1)\n",
    "        @views BLAS.ger!(-1.0, Aij[k+1:n,k], Aij[k,k+1:m], Aij[k+1:n,k+1:m])\n",
    "    end\n",
    "end\n",
    "\n",
    "_last_block(n, b) = n%b == 0 ? n - b +1 : n - (n%b) + 1\n",
    "\n",
    "function blocked_lu!(A::AbstractMatrix{T}, b::Integer) where T <: AbstractFloat\n",
    "    n = min(size(A)...)\n",
    "    piv = collect(1:n)\n",
    "    last_block = _last_block(n, b)\n",
    "    for i = 1:b:last_block-b\n",
    "        k = i:i+b-1\n",
    "        l = i+b:n\n",
    "        _factorize!(A, i:n, k, piv)\n",
    "        Lkk = @view A[k, k]\n",
    "        Ukl = @view A[k, l]\n",
    "        Llk = @view A[l, k]\n",
    "        All = @view A[l,  l]\n",
    "        # Aji = Lkk \\ Aji\n",
    "        BLAS.trsm!('L', 'L', 'N', 'U', 1.0, Lkk, Ukl)\n",
    "        # All = All - Llk*Ukl\n",
    "        BLAS.gemm!('N', 'N', -1.0, Llk, Ukl, 1.0, All)\n",
    "    end\n",
    "    _factorize!(A, last_block:n, last_block:n, piv)\n",
    "    return LU_Fac{T}(\n",
    "        A,\n",
    "        piv\n",
    "    )\n",
    "end"
   ]
  },
  {
   "cell_type": "code",
   "execution_count": 495,
   "metadata": {},
   "outputs": [],
   "source": [
    "\n",
    "\n",
    "swap_rows(b::AbstractArray, piv::AbstractArray{<:Integer}) = b[piv]\n",
    "\n",
    "\n",
    "swap_rows(b::AbstractMatrix, piv::AbstractArray{<:Integer}) = b[piv, :]\n",
    "\n",
    "\n",
    "function _solve!(b::AbstractArray{T}, F::LU_Fac{T}) where T<:AbstractFloat\n",
    "    BLAS.trsv!('L', 'N', 'U', F.lu, bp)\n",
    "    BLAS.trsv!('U', 'N', 'N', F.lu, bp)\n",
    "end\n",
    "\n",
    "\n",
    "function _solve!(B::AbstractMatrix{T}, F::LU_Fac{T}) where T<:AbstractFloat\n",
    "    BLAS.trsm!('L', 'L', 'N', 'U', 1.0, F.lu, B)\n",
    "    BLAS.trsm!('L', 'U', 'N', 'N', 1.0, F.lu, B)\n",
    "end\n",
    "\n",
    "\n",
    "function lu_solve!(b::AbstractArray{T}, A::AbstractMatrix{T}) where T<:AbstractFloat\n",
    "    lu = lu_factorization(A)\n",
    "    bp = swap_rows(b, lu.p)\n",
    "    _solve!(bp, lu)\n",
    "end\n",
    "\n",
    "function lu_solve!(b::AbstractArray{T}, lu::LU_Fac{T}) where T<:AbstractFloat\n",
    "    bp = swap_rows(b, lu.p)\n",
    "    _solve!(bp, lu)\n",
    "end\n",
    "\n",
    "\n",
    "\\(A::LU_Fac, b::AbstractArray) = lu_solve(A, b);"
   ]
  },
  {
   "cell_type": "code",
   "execution_count": 501,
   "metadata": {
    "scrolled": true
   },
   "outputs": [
    {
     "name": "stdout",
     "output_type": "stream",
     "text": [
      "  0.549581 seconds (9 allocations: 68.688 MiB, 3.54% gc time)\n",
      "  0.729231 seconds (12.06 k allocations: 777.203 KiB)\n"
     ]
    },
    {
     "data": {
      "text/plain": [
       "L = 3000×3000 UnitLowerTriangular{Float64,Array{Float64,2}}:\n",
       " 1.0          ⋅           ⋅          …    ⋅         ⋅         ⋅          ⋅ \n",
       " 0.0115676   1.0          ⋅               ⋅         ⋅         ⋅          ⋅ \n",
       " 0.941237    0.743226    1.0              ⋅         ⋅         ⋅          ⋅ \n",
       " 0.0634882   0.0534254  -0.496469         ⋅         ⋅         ⋅          ⋅ \n",
       " 0.900316   -0.163845    0.443745         ⋅         ⋅         ⋅          ⋅ \n",
       " 0.940982    0.760262    0.371038    …    ⋅         ⋅         ⋅          ⋅ \n",
       " 0.21612     0.233918   -0.423736         ⋅         ⋅         ⋅          ⋅ \n",
       " 0.364049    0.866341    0.0976943        ⋅         ⋅         ⋅          ⋅ \n",
       " 0.215959    0.0738068  -0.139786         ⋅         ⋅         ⋅          ⋅ \n",
       " 0.243579   -0.0405707  -0.187653         ⋅         ⋅         ⋅          ⋅ \n",
       " 0.945041    0.738181    0.838442    …    ⋅         ⋅         ⋅          ⋅ \n",
       " 0.534606   -0.0264596  -0.270274         ⋅         ⋅         ⋅          ⋅ \n",
       " 0.061941    0.420782    0.255343         ⋅         ⋅         ⋅          ⋅ \n",
       " ⋮                                   ⋱                                     \n",
       " 0.940025    0.764082    0.610521         ⋅         ⋅         ⋅          ⋅ \n",
       " 0.823526   -0.0142008   0.00138474       ⋅         ⋅         ⋅          ⋅ \n",
       " 0.317574    0.212175   -0.396936    …    ⋅         ⋅         ⋅          ⋅ \n",
       " 0.909287   -0.157944    0.189904         ⋅         ⋅         ⋅          ⋅ \n",
       " 0.31527     0.483707    0.0710888        ⋅         ⋅         ⋅          ⋅ \n",
       " 0.393537    0.265732   -0.160106         ⋅         ⋅         ⋅          ⋅ \n",
       " 0.694692    0.221126    0.122795         ⋅         ⋅         ⋅          ⋅ \n",
       " 0.561333    0.204285   -0.139565    …    ⋅         ⋅         ⋅          ⋅ \n",
       " 0.0783699   0.517378   -0.279575        1.0        ⋅         ⋅          ⋅ \n",
       " 0.292688    0.767166    0.557323        0.687794  1.0        ⋅          ⋅ \n",
       " 0.125497    0.975441   -0.125845       -0.722223  1.23074   1.0         ⋅ \n",
       " 0.661574    0.179527    0.0204262       0.779851  0.228321  0.0914479  1.0\n",
       "\n",
       "U = 3000×3000 UpperTriangular{Float64,Array{Float64,2}}:\n",
       " 0.99952  0.211739   0.924565  …    0.364722    0.591868     0.280325\n",
       "  ⋅       0.980548   0.708527       0.832526    0.0499349    0.11611 \n",
       "  ⋅        ⋅        -1.38795       -0.100636   -0.14851      0.412363\n",
       "  ⋅        ⋅          ⋅            -0.072416   -0.0666366    0.759179\n",
       "  ⋅        ⋅          ⋅             0.125687    0.161614     0.539751\n",
       "  ⋅        ⋅          ⋅        …   -0.93565     0.321364     0.259686\n",
       "  ⋅        ⋅          ⋅             0.242648    0.425804     0.246015\n",
       "  ⋅        ⋅          ⋅             0.450916    0.101421    -0.378447\n",
       "  ⋅        ⋅          ⋅            -0.20059    -0.161467     0.537619\n",
       "  ⋅        ⋅          ⋅             0.503698    1.0043       0.504741\n",
       "  ⋅        ⋅          ⋅        …   -1.13068    -0.28236     -0.145497\n",
       "  ⋅        ⋅          ⋅             1.66118     0.925481     0.101086\n",
       "  ⋅        ⋅          ⋅            -0.687129   -0.312543     0.347743\n",
       " ⋮                             ⋱                                     \n",
       "  ⋅        ⋅          ⋅            -2.98365    -0.509367     6.80176 \n",
       "  ⋅        ⋅          ⋅           -15.7101     19.9506       0.396744\n",
       "  ⋅        ⋅          ⋅        …   -6.29885     2.17356     -2.09093 \n",
       "  ⋅        ⋅          ⋅             1.47636     1.55174      3.0585  \n",
       "  ⋅        ⋅          ⋅            14.4802      0.514679    -6.93497 \n",
       "  ⋅        ⋅          ⋅            -1.92412     6.68859     -5.77163 \n",
       "  ⋅        ⋅          ⋅            -9.69785    -9.22385      8.84269 \n",
       "  ⋅        ⋅          ⋅        …  -12.4743    -15.5004      12.3653  \n",
       "  ⋅        ⋅          ⋅            -2.656       1.27451      3.08178 \n",
       "  ⋅        ⋅          ⋅             6.317      -4.18539      5.77481 \n",
       "  ⋅        ⋅          ⋅              ⋅         13.8786     -14.1306  \n",
       "  ⋅        ⋅          ⋅              ⋅           ⋅          -0.885337"
      ]
     },
     "execution_count": 501,
     "metadata": {},
     "output_type": "execute_result"
    }
   ],
   "source": [
    "A = [4 3 4 5 2 1\n",
    "     3 4 8 1 2 7\n",
    "     7 8 9 2 1 3\n",
    "     7 1 2 3 4 5\n",
    "     1 9 7 3 3 1\n",
    "     6 5 6 1 2 9.]\n",
    "\n",
    "n = 3000\n",
    "A = rand(n,n)\n",
    "# b = A * rand(n, n)\n",
    "#display(A)\n",
    "# @assert F.L * F.U ≈ A[F.p, :]\n",
    "@time lu(A)\n",
    "@time F = blocked_lu!(A, 200)\n",
    "\n",
    "# @time lu_solve!(copy(b), F)\n",
    "# F = lu(A)\n",
    "# @time F\\b"
   ]
  },
  {
   "cell_type": "code",
   "execution_count": 500,
   "metadata": {},
   "outputs": [],
   "source": [
    "BLAS.set_num_threads(5)"
   ]
  },
  {
   "cell_type": "code",
   "execution_count": 486,
   "metadata": {},
   "outputs": [
    {
     "data": {
      "text/plain": [
       "true"
      ]
     },
     "execution_count": 486,
     "metadata": {},
     "output_type": "execute_result"
    }
   ],
   "source": [
    "A = [4 3 4 5 2 1\n",
    "     3 4 8 1 2 7\n",
    "     7 8 9 2 1 3\n",
    "     7 1 2 3 4 5\n",
    "     1 9 7 3 3 1\n",
    "     6 5 6 1 2 9.]\n",
    "F = LinearAlgebra.generic_lufact!(A[1:3, 1:3], Val(false))\n",
    "L11 = F.L\n",
    "U11 = F.U\n",
    "\n",
    "\n",
    "U12 = L11 \\ A[1:3, 4:end]\n",
    "L21 = A[4:end, 1:3] / U11\n",
    "A22 = A[4:end, 4:end]\n",
    "S = A22 - L21*U12 \n",
    "F2 = LinearAlgebra.generic_lufact!(copy(S), Val(false))\n",
    "\n",
    "F3 = [F.factors U12; L21 F2.factors]\n",
    "UnitLowerTriangular(F3) * UpperTriangular(F3) ≈ A\n",
    "#F3"
   ]
  },
  {
   "cell_type": "code",
   "execution_count": 488,
   "metadata": {},
   "outputs": [
    {
     "data": {
      "text/plain": [
       "blocked_lu! (generic function with 1 method)"
      ]
     },
     "execution_count": 488,
     "metadata": {},
     "output_type": "execute_result"
    }
   ],
   "source": []
  },
  {
   "cell_type": "code",
   "execution_count": 330,
   "metadata": {},
   "outputs": [
    {
     "data": {
      "text/plain": [
       "true"
      ]
     },
     "execution_count": 330,
     "metadata": {},
     "output_type": "execute_result"
    }
   ],
   "source": [
    "Bool(1)"
   ]
  },
  {
   "cell_type": "code",
   "execution_count": 481,
   "metadata": {},
   "outputs": [
    {
     "data": {
      "text/plain": [
       "4:10"
      ]
     },
     "execution_count": 481,
     "metadata": {},
     "output_type": "execute_result"
    }
   ],
   "source": [
    "f = 4:10"
   ]
  },
  {
   "cell_type": "code",
   "execution_count": 483,
   "metadata": {},
   "outputs": [
    {
     "data": {
      "text/plain": [
       "10"
      ]
     },
     "execution_count": 483,
     "metadata": {},
     "output_type": "execute_result"
    }
   ],
   "source": [
    "f.stop"
   ]
  },
  {
   "cell_type": "code",
   "execution_count": null,
   "metadata": {},
   "outputs": [],
   "source": []
  }
 ],
 "metadata": {
  "@webio": {
   "lastCommId": "4d439b5d4330405b8a8948dd7fee56b5",
   "lastKernelId": "b37dc0dd-90a2-46d4-bd7d-025cab0492fe"
  },
  "kernelspec": {
   "display_name": "Julia 1.0.1",
   "language": "julia",
   "name": "julia-1.0"
  },
  "language_info": {
   "file_extension": ".jl",
   "mimetype": "application/julia",
   "name": "julia",
   "version": "1.0.1"
  },
  "latex_envs": {
   "LaTeX_envs_menu_present": true,
   "autoclose": true,
   "autocomplete": true,
   "bibliofile": "biblio.bib",
   "cite_by": "apalike",
   "current_citInitial": 1,
   "eqLabelWithNumbers": true,
   "eqNumInitial": 1,
   "hotkeys": {
    "equation": "Ctrl-E",
    "itemize": "Ctrl-I"
   },
   "labels_anchors": false,
   "latex_user_defs": false,
   "report_style_numbering": false,
   "user_envs_cfg": false
  },
  "toc": {
   "base_numbering": 1,
   "nav_menu": {},
   "number_sections": true,
   "sideBar": true,
   "skip_h1_title": false,
   "title_cell": "Table of Contents",
   "title_sidebar": "Contents",
   "toc_cell": false,
   "toc_position": {},
   "toc_section_display": true,
   "toc_window_display": false
  },
  "varInspector": {
   "cols": {
    "lenName": 16,
    "lenType": 16,
    "lenVar": 40
   },
   "kernels_config": {
    "python": {
     "delete_cmd_postfix": "",
     "delete_cmd_prefix": "del ",
     "library": "var_list.py",
     "varRefreshCmd": "print(var_dic_list())"
    },
    "r": {
     "delete_cmd_postfix": ") ",
     "delete_cmd_prefix": "rm(",
     "library": "var_list.r",
     "varRefreshCmd": "cat(var_dic_list()) "
    }
   },
   "types_to_exclude": [
    "module",
    "function",
    "builtin_function_or_method",
    "instance",
    "_Feature"
   ],
   "window_display": false
  }
 },
 "nbformat": 4,
 "nbformat_minor": 2
}
